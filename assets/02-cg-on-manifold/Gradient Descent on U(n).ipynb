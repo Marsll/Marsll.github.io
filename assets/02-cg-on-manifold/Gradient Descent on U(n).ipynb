{
 "cells": [
  {
   "cell_type": "code",
   "execution_count": 149,
   "metadata": {},
   "outputs": [],
   "source": [
    "import numpy as np\n",
    "from scipy.linalg import expm\n",
    "from scipy.optimize import minimize\n",
    "from numpy import linalg as LA\n",
    "import matplotlib.pyplot as plt\n",
    "%matplotlib inline "
   ]
  },
  {
   "cell_type": "code",
   "execution_count": 150,
   "metadata": {},
   "outputs": [],
   "source": [
    "def conjugation(U, H):\n",
    "    return np.conj(U.T) @ H @ U"
   ]
  },
  {
   "cell_type": "code",
   "execution_count": 151,
   "metadata": {},
   "outputs": [],
   "source": [
    "def diagonalize(H):\n",
    "    eigenValues, eigenVectors = linalg.eig(H)\n",
    "\n",
    "    idx = eigenValues.argsort() \n",
    "    eigenValues = eigenValues[idx]\n",
    "    return eigenValues"
   ]
  },
  {
   "cell_type": "code",
   "execution_count": 152,
   "metadata": {},
   "outputs": [],
   "source": [
    "def cost_function(U, H, D):\n",
    "    return numpy.linalg.norm(D - conjugation(v,H))"
   ]
  },
  {
   "cell_type": "code",
   "execution_count": 153,
   "metadata": {},
   "outputs": [],
   "source": [
    "def cost_brockett(U, H):\n",
    "    # Maximizing the Brockett criterion, i.e. Trace(U^* H U N) over U \n",
    "    N = np.diag(np.arange(H.shape[0]))\n",
    "    return np.trace(conjugation(U,H) @ N)"
   ]
  },
  {
   "cell_type": "code",
   "execution_count": 154,
   "metadata": {},
   "outputs": [],
   "source": [
    "def euclidean_gradient(U, H):\n",
    "    # The Euclidean gradient of the Brockett criterion is given by HUN\n",
    "    N = np.diag(np.arange(H.shape[0]))\n",
    "    return H @ U @ N"
   ]
  },
  {
   "cell_type": "code",
   "execution_count": 155,
   "metadata": {},
   "outputs": [],
   "source": [
    "def riemannian_gradient(U, H):\n",
    "    eucl_grad = euclidean_gradient(U,H)\n",
    "    G = eucl_grad @ np.conj(U.T) - U @ np.conj(eucl_grad.T)\n",
    "    return G"
   ]
  },
  {
   "cell_type": "code",
   "execution_count": 156,
   "metadata": {},
   "outputs": [],
   "source": [
    "def take_step(U, grad, step_size):\n",
    "    # no minus, since we want to maximize the brockett criterion\n",
    "    new_U = expm(step_size * grad) @ U\n",
    "    return new_U"
   ]
  },
  {
   "cell_type": "code",
   "execution_count": 157,
   "metadata": {},
   "outputs": [],
   "source": [
    "def is_square(H):\n",
    "    result = True if H.shape[0] == H.shape[1] else False\n",
    "    return result"
   ]
  },
  {
   "cell_type": "code",
   "execution_count": 158,
   "metadata": {},
   "outputs": [],
   "source": [
    "def steepest_descent(H, step_size, U0=None, steps=10):\n",
    "    if not is_square(H):\n",
    "        print(\"Matrix is not square, aborting\")\n",
    "        return None\n",
    "    if U0 is None:\n",
    "        U = np.identity(H.shape[0])\n",
    "    else:\n",
    "        U = U0\n",
    "          \n",
    "    f_values = np.zeros(steps)\n",
    "    for i in np.arange(steps):\n",
    "        f_values[i] = cost_brockett(U, H)\n",
    "        grad = riemannian_gradient(U, H)\n",
    "        U = take_step(U, grad, step_size)\n",
    "        \n",
    "    return f_values, U"
   ]
  },
  {
   "cell_type": "code",
   "execution_count": 160,
   "metadata": {},
   "outputs": [
    {
     "data": {
      "text/plain": [
       "[<matplotlib.lines.Line2D at 0x7f7a67e64eb8>]"
      ]
     },
     "execution_count": 160,
     "metadata": {},
     "output_type": "execute_result"
    },
    {
     "data": {
      "image/png": "[encoded data removed]",
      "text/plain": [
       "<Figure size 432x288 with 1 Axes>"
      ]
     },
     "metadata": {
      "needs_background": "light"
     },
     "output_type": "display_data"
    }
   ],
   "source": [
    "H = np.array([[0,1], [1,0]])\n",
    "U0 = np.identity(2)\n",
    "n = 50\n",
    "step_size = 0.1\n",
    "\n",
    "fs, last_U = steepest_descent(H, step_size, U0=U0, steps=n)\n",
    "plt.plot(np.arange(n), fs)"
   ]
  },
  {
   "cell_type": "code",
   "execution_count": null,
   "metadata": {},
   "outputs": [],
   "source": [
    "w,v = LA.eig(A)\n",
    "v\n",
    "np.conjugate(v.T)"
   ]
  },
  {
   "cell_type": "code",
   "execution_count": null,
   "metadata": {},
   "outputs": [],
   "source": [
    "np.conjugate(v.T) @ A @ v"
   ]
  },
  {
   "cell_type": "code",
   "execution_count": null,
   "metadata": {},
   "outputs": [],
   "source": [
    "cost_brockett(np.identity(2), A)"
   ]
  },
  {
   "cell_type": "code",
   "execution_count": null,
   "metadata": {},
   "outputs": [],
   "source": [
    "print(riemannian_gradient(A, np.identity(2)),)"
   ]
  },
  {
   "cell_type": "code",
   "execution_count": 163,
   "metadata": {},
   "outputs": [
    {
     "data": {
      "text/plain": [
       "array([[1, 0],\n",
       "       [0, 9]])"
      ]
     },
     "execution_count": 163,
     "metadata": {},
     "output_type": "execute_result"
    }
   ],
   "source": [
    "test_m = np.array([[1, -1],[-1, 3]])\n",
    "np.maximum(test_m, 0)**2"
   ]
  },
  {
   "cell_type": "code",
   "execution_count": 168,
   "metadata": {},
   "outputs": [],
   "source": [
    "A = np.ones(4).reshape(2,2)\n",
    "B = np.arange(4).reshape(2,2)"
   ]
  },
  {
   "cell_type": "code",
   "execution_count": 180,
   "metadata": {},
   "outputs": [
    {
     "data": {
      "text/plain": [
       "3"
      ]
     },
     "execution_count": 180,
     "metadata": {},
     "output_type": "execute_result"
    }
   ],
   "source": [
    "np.einsum('ii->', B)"
   ]
  },
  {
   "cell_type": "code",
   "execution_count": null,
   "metadata": {},
   "outputs": [],
   "source": []
  }
 ],
 "metadata": {
  "kernelspec": {
   "display_name": "Python [conda env:root] *",
   "language": "python",
   "name": "conda-root-py"
  },
  "language_info": {
   "codemirror_mode": {
    "name": "ipython",
    "version": 3
   },
   "file_extension": ".py",
   "mimetype": "text/x-python",
   "name": "python",
   "nbconvert_exporter": "python",
   "pygments_lexer": "ipython3",
   "version": "3.7.3"
  }
 },
 "nbformat": 4,
 "nbformat_minor": 2
}
